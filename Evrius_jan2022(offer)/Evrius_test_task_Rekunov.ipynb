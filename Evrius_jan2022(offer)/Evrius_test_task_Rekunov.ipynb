{
 "cells": [
  {
   "cell_type": "markdown",
   "metadata": {},
   "source": [
    "## Задание 1\n",
    "Есть ряд кампаний с определенным настройками (таргет, частота показа\n",
    "креатива). Рекламодатель создает кампанию с целью получить конверсию, но\n",
    "оплачивает клики. Существует гипотеза, что CTR по кампании снижается\n",
    "пропорционально возрасту кампании. Каким образом и какими методами вы бы\n",
    "подтверждали/опровергали данную гипотезу? На какие нюансы обратили бы\n",
    "внимание?"
   ]
  },
  {
   "cell_type": "markdown",
   "metadata": {},
   "source": [
    "* Можем просто проверить динамику изменения CTR по каждой из кампаний за период\n",
    "* Динамику изменения среднего CTR по всем кампаниям за период\n",
    "\n",
    "Если рост всех очевиден - сворачиваем лавочку, всё понятно, если нет - делаем по-красивому: выдвигаем нулевую, альтернативные гипотезы и занимаемся.\n",
    "\n",
    "Но для того, чтобы выдвинуть гипотезу вначале нужно вообще понять - а используя какие данные нам вообще можно сделать вывод/выдвинуть гипотезу, что CTR снижается/наоборот.\n",
    "\n",
    "Вообще, хорошее понимание растёт что-то/убывает даёт коэффициент угла наклона прямой. Потому при помощи регрессии и имеющихся данных получаем уравнение прямой для каждой кампании вида:"
   ]
  },
  {
   "cell_type": "markdown",
   "metadata": {},
   "source": [
    "$$ y = kx + b, \\text{где}$$"
   ]
  },
  {
   "cell_type": "markdown",
   "metadata": {},
   "source": [
    "$$ k \\text{ - интересующий нас показатель возрастания/убывания} $$"
   ]
  },
  {
   "cell_type": "markdown",
   "metadata": {},
   "source": [
    "Знаем, что если k < 0 - CTR убывает, k > 0 - возрастает.\n",
    "\n",
    "По идее, распределение значений k, которое построим - будет нормальным. Ну и уже далее выдвигаем нулевую и альтернативные гипотезы, принимаем $\\alpha$ за 0.05, расчитываем уровень значимости и, соответственно отвергаем или принимаем нулевую гипотезу - делаем выводы о динамике CTR."
   ]
  },
  {
   "cell_type": "markdown",
   "metadata": {},
   "source": [
    "## Задание 2\n",
    "Есть 4 формата трафика (a, b, c, d). Существуют определенные индикаторы X и\n",
    "Y, которые описывают источник (source) трафика. Также, каждому формату\n",
    "соответствует определенный threshold, при пересечении которого источник, с\n",
    "которого пришел трафик, считается фродовым, то есть (в общем виде)"
   ]
  },
  {
   "cell_type": "markdown",
   "metadata": {},
   "source": [
    "Необходимо написать код, который будет присваивать значение фрода\n",
    "источнику в зависимости от его формата и индикаторов и сохранять в\n",
    "отдельный столбец датафрейма"
   ]
  },
  {
   "cell_type": "markdown",
   "metadata": {},
   "source": [
    "![title](task_cond.png)"
   ]
  },
  {
   "cell_type": "code",
   "execution_count": 1,
   "metadata": {},
   "outputs": [],
   "source": [
    "import pandas as pd\n",
    "import numpy as np\n",
    "import random"
   ]
  },
  {
   "cell_type": "markdown",
   "metadata": {},
   "source": [
    "В первую очередь переведу листы пороговых значений для каждого формата в словарь для удобства, потому что формат хранения данных в виде list(a = tx_a, b = tx_b, etc) невозможен, а индексация по списку будет неудобна"
   ]
  },
  {
   "cell_type": "code",
   "execution_count": 2,
   "metadata": {},
   "outputs": [],
   "source": [
    "#словари со случайно выбранными пороговыми значениями\n",
    "format_thresh_x = {\n",
    "    'a':37,\n",
    "    'b':50,\n",
    "    'c':3\n",
    "}\n",
    "format_thresh_y = {\n",
    "    'a':22,\n",
    "    'b':78,\n",
    "    'c':18\n",
    "}"
   ]
  },
  {
   "cell_type": "markdown",
   "metadata": {},
   "source": [
    "Создам схожий датафрейм и выполню реализацию на нём"
   ]
  },
  {
   "cell_type": "code",
   "execution_count": 3,
   "metadata": {},
   "outputs": [],
   "source": [
    "#датафрейм со случайными данными\n",
    "np.random.seed(1)\n",
    "size = 10\n",
    "df = pd.DataFrame({'source': [i for i in range(10)],\n",
    "                'X': np.random.randint(low=0, high=100, size=size),\n",
    "                'Y': np.random.randint(low=0, high=100, size=size) ,\n",
    "                'format': [np.random.choice(list(format_thresh_x.keys())) for i in range(size)]})"
   ]
  },
  {
   "cell_type": "code",
   "execution_count": 4,
   "metadata": {},
   "outputs": [
    {
     "data": {
      "text/html": [
       "<div>\n",
       "<style scoped>\n",
       "    .dataframe tbody tr th:only-of-type {\n",
       "        vertical-align: middle;\n",
       "    }\n",
       "\n",
       "    .dataframe tbody tr th {\n",
       "        vertical-align: top;\n",
       "    }\n",
       "\n",
       "    .dataframe thead th {\n",
       "        text-align: right;\n",
       "    }\n",
       "</style>\n",
       "<table border=\"1\" class=\"dataframe\">\n",
       "  <thead>\n",
       "    <tr style=\"text-align: right;\">\n",
       "      <th></th>\n",
       "      <th>source</th>\n",
       "      <th>X</th>\n",
       "      <th>Y</th>\n",
       "      <th>format</th>\n",
       "    </tr>\n",
       "  </thead>\n",
       "  <tbody>\n",
       "    <tr>\n",
       "      <th>0</th>\n",
       "      <td>0</td>\n",
       "      <td>37</td>\n",
       "      <td>76</td>\n",
       "      <td>b</td>\n",
       "    </tr>\n",
       "    <tr>\n",
       "      <th>1</th>\n",
       "      <td>1</td>\n",
       "      <td>12</td>\n",
       "      <td>71</td>\n",
       "      <td>c</td>\n",
       "    </tr>\n",
       "    <tr>\n",
       "      <th>2</th>\n",
       "      <td>2</td>\n",
       "      <td>72</td>\n",
       "      <td>6</td>\n",
       "      <td>c</td>\n",
       "    </tr>\n",
       "    <tr>\n",
       "      <th>3</th>\n",
       "      <td>3</td>\n",
       "      <td>9</td>\n",
       "      <td>25</td>\n",
       "      <td>a</td>\n",
       "    </tr>\n",
       "    <tr>\n",
       "      <th>4</th>\n",
       "      <td>4</td>\n",
       "      <td>75</td>\n",
       "      <td>50</td>\n",
       "      <td>b</td>\n",
       "    </tr>\n",
       "    <tr>\n",
       "      <th>5</th>\n",
       "      <td>5</td>\n",
       "      <td>5</td>\n",
       "      <td>20</td>\n",
       "      <td>b</td>\n",
       "    </tr>\n",
       "    <tr>\n",
       "      <th>6</th>\n",
       "      <td>6</td>\n",
       "      <td>79</td>\n",
       "      <td>18</td>\n",
       "      <td>c</td>\n",
       "    </tr>\n",
       "    <tr>\n",
       "      <th>7</th>\n",
       "      <td>7</td>\n",
       "      <td>64</td>\n",
       "      <td>84</td>\n",
       "      <td>a</td>\n",
       "    </tr>\n",
       "    <tr>\n",
       "      <th>8</th>\n",
       "      <td>8</td>\n",
       "      <td>16</td>\n",
       "      <td>11</td>\n",
       "      <td>c</td>\n",
       "    </tr>\n",
       "    <tr>\n",
       "      <th>9</th>\n",
       "      <td>9</td>\n",
       "      <td>1</td>\n",
       "      <td>28</td>\n",
       "      <td>b</td>\n",
       "    </tr>\n",
       "  </tbody>\n",
       "</table>\n",
       "</div>"
      ],
      "text/plain": [
       "   source   X   Y format\n",
       "0       0  37  76      b\n",
       "1       1  12  71      c\n",
       "2       2  72   6      c\n",
       "3       3   9  25      a\n",
       "4       4  75  50      b\n",
       "5       5   5  20      b\n",
       "6       6  79  18      c\n",
       "7       7  64  84      a\n",
       "8       8  16  11      c\n",
       "9       9   1  28      b"
      ]
     },
     "execution_count": 4,
     "metadata": {},
     "output_type": "execute_result"
    }
   ],
   "source": [
    "df"
   ]
  },
  {
   "cell_type": "markdown",
   "metadata": {},
   "source": [
    "Правило возьму то же"
   ]
  },
  {
   "cell_type": "code",
   "execution_count": 5,
   "metadata": {},
   "outputs": [],
   "source": [
    "df[\"fraud_value\"] = np.where(\n",
    "    #первое условие\n",
    "   (df.X > np.array([format_thresh_x[key] for key in df.format])) & \n",
    "        (df.Y > np.array([format_thresh_y[key] for key in df.format])), \n",
    "   \"fraud\", \n",
    "    #второе условие\n",
    "    np.where((df.X > np.array([format_thresh_x[key] for key in df.format])) | \n",
    "        (df.Y > np.array([format_thresh_y[key] for key in df.format])),\n",
    "        \"suspicious\", \n",
    "        \"not fraud\")\n",
    ")"
   ]
  },
  {
   "cell_type": "markdown",
   "metadata": {},
   "source": [
    "Что имеем в итоге:"
   ]
  },
  {
   "cell_type": "code",
   "execution_count": 6,
   "metadata": {},
   "outputs": [
    {
     "data": {
      "text/html": [
       "<div>\n",
       "<style scoped>\n",
       "    .dataframe tbody tr th:only-of-type {\n",
       "        vertical-align: middle;\n",
       "    }\n",
       "\n",
       "    .dataframe tbody tr th {\n",
       "        vertical-align: top;\n",
       "    }\n",
       "\n",
       "    .dataframe thead th {\n",
       "        text-align: right;\n",
       "    }\n",
       "</style>\n",
       "<table border=\"1\" class=\"dataframe\">\n",
       "  <thead>\n",
       "    <tr style=\"text-align: right;\">\n",
       "      <th></th>\n",
       "      <th>source</th>\n",
       "      <th>X</th>\n",
       "      <th>Y</th>\n",
       "      <th>format</th>\n",
       "      <th>fraud_value</th>\n",
       "    </tr>\n",
       "  </thead>\n",
       "  <tbody>\n",
       "    <tr>\n",
       "      <th>0</th>\n",
       "      <td>0</td>\n",
       "      <td>37</td>\n",
       "      <td>76</td>\n",
       "      <td>b</td>\n",
       "      <td>not fraud</td>\n",
       "    </tr>\n",
       "    <tr>\n",
       "      <th>1</th>\n",
       "      <td>1</td>\n",
       "      <td>12</td>\n",
       "      <td>71</td>\n",
       "      <td>c</td>\n",
       "      <td>fraud</td>\n",
       "    </tr>\n",
       "    <tr>\n",
       "      <th>2</th>\n",
       "      <td>2</td>\n",
       "      <td>72</td>\n",
       "      <td>6</td>\n",
       "      <td>c</td>\n",
       "      <td>suspicious</td>\n",
       "    </tr>\n",
       "    <tr>\n",
       "      <th>3</th>\n",
       "      <td>3</td>\n",
       "      <td>9</td>\n",
       "      <td>25</td>\n",
       "      <td>a</td>\n",
       "      <td>suspicious</td>\n",
       "    </tr>\n",
       "    <tr>\n",
       "      <th>4</th>\n",
       "      <td>4</td>\n",
       "      <td>75</td>\n",
       "      <td>50</td>\n",
       "      <td>b</td>\n",
       "      <td>suspicious</td>\n",
       "    </tr>\n",
       "    <tr>\n",
       "      <th>5</th>\n",
       "      <td>5</td>\n",
       "      <td>5</td>\n",
       "      <td>20</td>\n",
       "      <td>b</td>\n",
       "      <td>not fraud</td>\n",
       "    </tr>\n",
       "    <tr>\n",
       "      <th>6</th>\n",
       "      <td>6</td>\n",
       "      <td>79</td>\n",
       "      <td>18</td>\n",
       "      <td>c</td>\n",
       "      <td>suspicious</td>\n",
       "    </tr>\n",
       "    <tr>\n",
       "      <th>7</th>\n",
       "      <td>7</td>\n",
       "      <td>64</td>\n",
       "      <td>84</td>\n",
       "      <td>a</td>\n",
       "      <td>fraud</td>\n",
       "    </tr>\n",
       "    <tr>\n",
       "      <th>8</th>\n",
       "      <td>8</td>\n",
       "      <td>16</td>\n",
       "      <td>11</td>\n",
       "      <td>c</td>\n",
       "      <td>suspicious</td>\n",
       "    </tr>\n",
       "    <tr>\n",
       "      <th>9</th>\n",
       "      <td>9</td>\n",
       "      <td>1</td>\n",
       "      <td>28</td>\n",
       "      <td>b</td>\n",
       "      <td>not fraud</td>\n",
       "    </tr>\n",
       "  </tbody>\n",
       "</table>\n",
       "</div>"
      ],
      "text/plain": [
       "   source   X   Y format fraud_value\n",
       "0       0  37  76      b   not fraud\n",
       "1       1  12  71      c       fraud\n",
       "2       2  72   6      c  suspicious\n",
       "3       3   9  25      a  suspicious\n",
       "4       4  75  50      b  suspicious\n",
       "5       5   5  20      b   not fraud\n",
       "6       6  79  18      c  suspicious\n",
       "7       7  64  84      a       fraud\n",
       "8       8  16  11      c  suspicious\n",
       "9       9   1  28      b   not fraud"
      ]
     },
     "execution_count": 6,
     "metadata": {},
     "output_type": "execute_result"
    }
   ],
   "source": [
    "df"
   ]
  },
  {
   "cell_type": "markdown",
   "metadata": {},
   "source": [
    "## Задание 3\n",
    "Предположим есть база данных со следующими полями\n",
    "date, publisher (char), advertiser (char), ip (char), event (enum)\n",
    "\n",
    "Event - это событие, которое происходит. Например,\n",
    "* 0 - ошибка при открытии рекламы,\n",
    "* 1 - показ\n",
    "* 2 - клик\n",
    "* 3 - конверсия\n",
    "\n",
    "Необходимо составить псевдо SQL-запросы следующего типа:\n",
    "* А. Вывести список из 10 паблишеров, у которых наилучшее соотношение конверсия / клик за последнюю неделю\n",
    "* Б. Вывести уникальные сочетания паблишеров и адвертайзеров, у которых хотя бы единожды за день соотношение ошибок и показов было больше, чем среднее значение соотношения ошибок и показов за все время"
   ]
  },
  {
   "cell_type": "code",
   "execution_count": 7,
   "metadata": {},
   "outputs": [],
   "source": [
    "a_query = '''\n",
    "SELECT publisher \n",
    "FROM (\n",
    "    SELECT publisher, \n",
    "        countIf(event=3) as num_conv, \n",
    "        countIf(event=2) as num_clicks, \n",
    "        num_conv/num_clicks as cr\n",
    "    FROM db\n",
    "    WHERE date BETWEEN (today() AND date_sub(DAY, 7, today()))\n",
    "    GROUPBY publisher\n",
    "    ORDER BY cr DESC\n",
    "    LIMIT 10\n",
    ")\n",
    "'''"
   ]
  },
  {
   "cell_type": "code",
   "execution_count": 8,
   "metadata": {},
   "outputs": [],
   "source": [
    "b_query = '''\n",
    "SELECT DISTINCT publisher, advertiser\n",
    "FROM (\n",
    "    SELECT publisher, advertiser, date,\n",
    "        countIf(event=0) as num_errors,\n",
    "        countIf(event=1) as num_imps,\n",
    "        num_errors/num_imps as error_imps_rate,\n",
    "        (SELECT countIf(event=0)/countIf(event=1) FROM db) as avg_error_imps_rate\n",
    "    FROM db\n",
    "    GROUPBY publisher, advertiser, date\n",
    "    HAVING error_imps_rate > avg_error_imps_rate\n",
    ")\n",
    "'''"
   ]
  }
 ],
 "metadata": {
  "kernelspec": {
   "display_name": "Python 3",
   "language": "python",
   "name": "python3"
  },
  "language_info": {
   "codemirror_mode": {
    "name": "ipython",
    "version": 3
   },
   "file_extension": ".py",
   "mimetype": "text/x-python",
   "name": "python",
   "nbconvert_exporter": "python",
   "pygments_lexer": "ipython3",
   "version": "3.8.10"
  },
  "toc": {
   "base_numbering": 1,
   "nav_menu": {},
   "number_sections": true,
   "sideBar": true,
   "skip_h1_title": false,
   "title_cell": "Table of Contents",
   "title_sidebar": "Contents",
   "toc_cell": false,
   "toc_position": {
    "height": "calc(100% - 180px)",
    "left": "10px",
    "top": "150px",
    "width": "238.991px"
   },
   "toc_section_display": true,
   "toc_window_display": true
  }
 },
 "nbformat": 4,
 "nbformat_minor": 4
}
